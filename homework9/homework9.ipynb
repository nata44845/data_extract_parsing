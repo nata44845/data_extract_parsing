{
 "cells": [
  {
   "cell_type": "markdown",
   "id": "a86d7806",
   "metadata": {},
   "source": [
    "# Домашняя работа 9\n",
    "\n",
    "### Задание 1.\n",
    "\n",
    "Выберите датасет, который имеет отношение к вашей области интересов или исследований. Датасет должен содержать неструктурированные данные, требующие разметки для решения конкретной задачи, например, анализа настроений или распознавания именованных сущностей.\n",
    "\n",
    "### Источник датасета:\n",
    "\n",
    "https://www.kaggle.com/datasets/coltonbarger/rotten-tomatoes-reviews-for-online-streaming-shows"
   ]
  },
  {
   "cell_type": "code",
   "execution_count": 1,
   "id": "3b8d67e3",
   "metadata": {},
   "outputs": [],
   "source": [
    "import pandas as pd\n",
    "import numpy as np\n",
    "from sklearn.feature_extraction.text import TfidfVectorizer\n",
    "from sklearn.linear_model import LogisticRegression\n",
    "from sklearn.model_selection import train_test_split\n",
    "from sklearn.metrics import f1_score\n",
    "from sklearn.utils import shuffle"
   ]
  },
  {
   "cell_type": "code",
   "execution_count": 2,
   "id": "85e929ee",
   "metadata": {},
   "outputs": [
    {
     "data": {
      "text/html": [
       "<div>\n",
       "<style scoped>\n",
       "    .dataframe tbody tr th:only-of-type {\n",
       "        vertical-align: middle;\n",
       "    }\n",
       "\n",
       "    .dataframe tbody tr th {\n",
       "        vertical-align: top;\n",
       "    }\n",
       "\n",
       "    .dataframe thead th {\n",
       "        text-align: right;\n",
       "    }\n",
       "</style>\n",
       "<table border=\"1\" class=\"dataframe\">\n",
       "  <thead>\n",
       "    <tr style=\"text-align: right;\">\n",
       "      <th></th>\n",
       "      <th>Show</th>\n",
       "      <th>Sentiment</th>\n",
       "      <th>Review</th>\n",
       "    </tr>\n",
       "  </thead>\n",
       "  <tbody>\n",
       "    <tr>\n",
       "      <th>0</th>\n",
       "      <td>Mare of Easttown</td>\n",
       "      <td>1</td>\n",
       "      <td>I’m not sure I have engaged in appointment vie...</td>\n",
       "    </tr>\n",
       "    <tr>\n",
       "      <th>1</th>\n",
       "      <td>Mare of Easttown</td>\n",
       "      <td>1</td>\n",
       "      <td>Kate is marvelous; she truly is Mare. She disa...</td>\n",
       "    </tr>\n",
       "    <tr>\n",
       "      <th>2</th>\n",
       "      <td>Mare of Easttown</td>\n",
       "      <td>1</td>\n",
       "      <td>That’s the thing I’ve loved most about Mare: t...</td>\n",
       "    </tr>\n",
       "    <tr>\n",
       "      <th>3</th>\n",
       "      <td>Mare of Easttown</td>\n",
       "      <td>1</td>\n",
       "      <td>Boasting Kate Winslet in the title role, twist...</td>\n",
       "    </tr>\n",
       "    <tr>\n",
       "      <th>4</th>\n",
       "      <td>Mare of Easttown</td>\n",
       "      <td>1</td>\n",
       "      <td>Performances in which madness, psychopathy or ...</td>\n",
       "    </tr>\n",
       "  </tbody>\n",
       "</table>\n",
       "</div>"
      ],
      "text/plain": [
       "               Show  Sentiment  \\\n",
       "0  Mare of Easttown          1   \n",
       "1  Mare of Easttown          1   \n",
       "2  Mare of Easttown          1   \n",
       "3  Mare of Easttown          1   \n",
       "4  Mare of Easttown          1   \n",
       "\n",
       "                                              Review  \n",
       "0  I’m not sure I have engaged in appointment vie...  \n",
       "1  Kate is marvelous; she truly is Mare. She disa...  \n",
       "2  That’s the thing I’ve loved most about Mare: t...  \n",
       "3  Boasting Kate Winslet in the title role, twist...  \n",
       "4  Performances in which madness, psychopathy or ...  "
      ]
     },
     "execution_count": 2,
     "metadata": {},
     "output_type": "execute_result"
    }
   ],
   "source": [
    "reviews = pd.read_csv(\"critic_reviews.csv\", encoding='utf-8')\n",
    "reviews.head()"
   ]
  },
  {
   "cell_type": "code",
   "execution_count": 3,
   "id": "165cdb8e",
   "metadata": {},
   "outputs": [
    {
     "name": "stdout",
     "output_type": "stream",
     "text": [
      "<class 'pandas.core.frame.DataFrame'>\n",
      "RangeIndex: 14791 entries, 0 to 14790\n",
      "Data columns (total 3 columns):\n",
      " #   Column     Non-Null Count  Dtype \n",
      "---  ------     --------------  ----- \n",
      " 0   Show       14791 non-null  object\n",
      " 1   Sentiment  14791 non-null  int64 \n",
      " 2   Review     14790 non-null  object\n",
      "dtypes: int64(1), object(2)\n",
      "memory usage: 346.8+ KB\n"
     ]
    }
   ],
   "source": [
    "reviews.info()"
   ]
  },
  {
   "cell_type": "code",
   "execution_count": 4,
   "id": "f8482b2c",
   "metadata": {},
   "outputs": [
    {
     "data": {
      "text/plain": [
       "<Axes: >"
      ]
     },
     "execution_count": 4,
     "metadata": {},
     "output_type": "execute_result"
    },
    {
     "data": {
      "image/png": "[encoded data removed]",
      "text/plain": [
       "<Figure size 640x480 with 1 Axes>"
      ]
     },
     "metadata": {},
     "output_type": "display_data"
    }
   ],
   "source": [
    "reviews['Sentiment'].hist()"
   ]
  },
  {
   "cell_type": "markdown",
   "id": "3f98d987",
   "metadata": {},
   "source": [
    "### Задание 2.\n",
    "\n",
    "Выполните разметку на основе правил (rule-based labeling) на подмножестве выбранного датасета. Разработайте и реализуйте набор правил или условий, которые позволят автоматически присваивать метки данным на основе определенных шаблонов или критериев."
   ]
  },
  {
   "cell_type": "code",
   "execution_count": 5,
   "id": "179d4fe2",
   "metadata": {},
   "outputs": [
    {
     "data": {
      "text/html": [
       "<div>\n",
       "<style scoped>\n",
       "    .dataframe tbody tr th:only-of-type {\n",
       "        vertical-align: middle;\n",
       "    }\n",
       "\n",
       "    .dataframe tbody tr th {\n",
       "        vertical-align: top;\n",
       "    }\n",
       "\n",
       "    .dataframe thead th {\n",
       "        text-align: right;\n",
       "    }\n",
       "</style>\n",
       "<table border=\"1\" class=\"dataframe\">\n",
       "  <thead>\n",
       "    <tr style=\"text-align: right;\">\n",
       "      <th></th>\n",
       "      <th>Show</th>\n",
       "      <th>Sentiment</th>\n",
       "      <th>Review</th>\n",
       "    </tr>\n",
       "  </thead>\n",
       "  <tbody>\n",
       "    <tr>\n",
       "      <th>11242</th>\n",
       "      <td>The Umbrella Academy</td>\n",
       "      <td>1</td>\n",
       "      <td>While The Umbrella Academy borrows plot points...</td>\n",
       "    </tr>\n",
       "    <tr>\n",
       "      <th>13189</th>\n",
       "      <td>BoJack Horseman</td>\n",
       "      <td>1</td>\n",
       "      <td>The show's latest season...goes a step further...</td>\n",
       "    </tr>\n",
       "    <tr>\n",
       "      <th>2270</th>\n",
       "      <td>The Twilight Zone</td>\n",
       "      <td>1</td>\n",
       "      <td>Season 2 is satisfyingly spooky and twisted, w...</td>\n",
       "    </tr>\n",
       "    <tr>\n",
       "      <th>1811</th>\n",
       "      <td>Halo</td>\n",
       "      <td>1</td>\n",
       "      <td>Halo (2022) works for me, and I hope it works ...</td>\n",
       "    </tr>\n",
       "    <tr>\n",
       "      <th>4667</th>\n",
       "      <td>Veep</td>\n",
       "      <td>0</td>\n",
       "      <td>[The] opening gave me hope that I was in for a...</td>\n",
       "    </tr>\n",
       "    <tr>\n",
       "      <th>...</th>\n",
       "      <td>...</td>\n",
       "      <td>...</td>\n",
       "      <td>...</td>\n",
       "    </tr>\n",
       "    <tr>\n",
       "      <th>102</th>\n",
       "      <td>Loot</td>\n",
       "      <td>1</td>\n",
       "      <td>Its ethical journey finally delivers a pretty ...</td>\n",
       "    </tr>\n",
       "    <tr>\n",
       "      <th>1702</th>\n",
       "      <td>The Offer</td>\n",
       "      <td>1</td>\n",
       "      <td>Godfather cultists, and we are legion, will fi...</td>\n",
       "    </tr>\n",
       "    <tr>\n",
       "      <th>12431</th>\n",
       "      <td>Inventing Anna</td>\n",
       "      <td>1</td>\n",
       "      <td>The true story it's based on is fascinatingly ...</td>\n",
       "    </tr>\n",
       "    <tr>\n",
       "      <th>4326</th>\n",
       "      <td>Winning Time: The Rise of the Lakers Dynasty</td>\n",
       "      <td>1</td>\n",
       "      <td>Purists may complain about the recreated baske...</td>\n",
       "    </tr>\n",
       "    <tr>\n",
       "      <th>5584</th>\n",
       "      <td>Lovecraft Country</td>\n",
       "      <td>1</td>\n",
       "      <td>It's helpful to think of [t], then, as akin to...</td>\n",
       "    </tr>\n",
       "  </tbody>\n",
       "</table>\n",
       "<p>2958 rows × 3 columns</p>\n",
       "</div>"
      ],
      "text/plain": [
       "                                               Show  Sentiment  \\\n",
       "11242                          The Umbrella Academy          1   \n",
       "13189                               BoJack Horseman          1   \n",
       "2270                              The Twilight Zone          1   \n",
       "1811                                           Halo          1   \n",
       "4667                                           Veep          0   \n",
       "...                                             ...        ...   \n",
       "102                                            Loot          1   \n",
       "1702                                      The Offer          1   \n",
       "12431                                Inventing Anna          1   \n",
       "4326   Winning Time: The Rise of the Lakers Dynasty          1   \n",
       "5584                              Lovecraft Country          1   \n",
       "\n",
       "                                                  Review  \n",
       "11242  While The Umbrella Academy borrows plot points...  \n",
       "13189  The show's latest season...goes a step further...  \n",
       "2270   Season 2 is satisfyingly spooky and twisted, w...  \n",
       "1811   Halo (2022) works for me, and I hope it works ...  \n",
       "4667   [The] opening gave me hope that I was in for a...  \n",
       "...                                                  ...  \n",
       "102    Its ethical journey finally delivers a pretty ...  \n",
       "1702   Godfather cultists, and we are legion, will fi...  \n",
       "12431  The true story it's based on is fascinatingly ...  \n",
       "4326   Purists may complain about the recreated baske...  \n",
       "5584   It's helpful to think of [t], then, as akin to...  \n",
       "\n",
       "[2958 rows x 3 columns]"
      ]
     },
     "execution_count": 5,
     "metadata": {},
     "output_type": "execute_result"
    }
   ],
   "source": [
    "# размеченное и неразмеченное подмножества данных\n",
    "reviews = shuffle(reviews)\n",
    "labeled_reviews, unlabeled_reviews = train_test_split(reviews, train_size=0.2, random_state=42)\n",
    "labeled_reviews"
   ]
  },
  {
   "cell_type": "code",
   "execution_count": 6,
   "id": "b6ab00be",
   "metadata": {},
   "outputs": [
    {
     "name": "stdout",
     "output_type": "stream",
     "text": [
      "<class 'pandas.core.frame.DataFrame'>\n",
      "Index: 2958 entries, 11242 to 5584\n",
      "Data columns (total 3 columns):\n",
      " #   Column     Non-Null Count  Dtype \n",
      "---  ------     --------------  ----- \n",
      " 0   Show       2958 non-null   object\n",
      " 1   Sentiment  2958 non-null   int64 \n",
      " 2   Review     2958 non-null   object\n",
      "dtypes: int64(1), object(2)\n",
      "memory usage: 92.4+ KB\n"
     ]
    }
   ],
   "source": [
    "labeled_reviews.info()"
   ]
  },
  {
   "cell_type": "code",
   "execution_count": 7,
   "id": "96636dcc",
   "metadata": {},
   "outputs": [
    {
     "data": {
      "text/html": [
       "<div>\n",
       "<style scoped>\n",
       "    .dataframe tbody tr th:only-of-type {\n",
       "        vertical-align: middle;\n",
       "    }\n",
       "\n",
       "    .dataframe tbody tr th {\n",
       "        vertical-align: top;\n",
       "    }\n",
       "\n",
       "    .dataframe thead th {\n",
       "        text-align: right;\n",
       "    }\n",
       "</style>\n",
       "<table border=\"1\" class=\"dataframe\">\n",
       "  <thead>\n",
       "    <tr style=\"text-align: right;\">\n",
       "      <th></th>\n",
       "      <th>Show</th>\n",
       "      <th>Sentiment</th>\n",
       "      <th>Review</th>\n",
       "    </tr>\n",
       "  </thead>\n",
       "  <tbody>\n",
       "    <tr>\n",
       "      <th>3989</th>\n",
       "      <td>Mare of Easttown</td>\n",
       "      <td>1</td>\n",
       "      <td>A seven-part series whose powers derive as muc...</td>\n",
       "    </tr>\n",
       "    <tr>\n",
       "      <th>3692</th>\n",
       "      <td>Doom Patrol</td>\n",
       "      <td>1</td>\n",
       "      <td>Michelle Gomez's arrival on Doom Patrol is pit...</td>\n",
       "    </tr>\n",
       "    <tr>\n",
       "      <th>9340</th>\n",
       "      <td>Lost</td>\n",
       "      <td>1</td>\n",
       "      <td>The themes persist, the characters persist, th...</td>\n",
       "    </tr>\n",
       "    <tr>\n",
       "      <th>3470</th>\n",
       "      <td>Tokyo Vice</td>\n",
       "      <td>1</td>\n",
       "      <td>It may not be as hip as Miami Vice, but Tokyo ...</td>\n",
       "    </tr>\n",
       "    <tr>\n",
       "      <th>5304</th>\n",
       "      <td>Deadwood</td>\n",
       "      <td>1</td>\n",
       "      <td>Deadwood is that rarest of all rare birds, a g...</td>\n",
       "    </tr>\n",
       "  </tbody>\n",
       "</table>\n",
       "</div>"
      ],
      "text/plain": [
       "                  Show  Sentiment  \\\n",
       "3989  Mare of Easttown          1   \n",
       "3692       Doom Patrol          1   \n",
       "9340              Lost          1   \n",
       "3470        Tokyo Vice          1   \n",
       "5304          Deadwood          1   \n",
       "\n",
       "                                                 Review  \n",
       "3989  A seven-part series whose powers derive as muc...  \n",
       "3692  Michelle Gomez's arrival on Doom Patrol is pit...  \n",
       "9340  The themes persist, the characters persist, th...  \n",
       "3470  It may not be as hip as Miami Vice, but Tokyo ...  \n",
       "5304  Deadwood is that rarest of all rare birds, a g...  "
      ]
     },
     "execution_count": 7,
     "metadata": {},
     "output_type": "execute_result"
    }
   ],
   "source": [
    "unlabeled_reviews.head()"
   ]
  },
  {
   "cell_type": "code",
   "execution_count": 8,
   "id": "219d616c",
   "metadata": {},
   "outputs": [
    {
     "name": "stdout",
     "output_type": "stream",
     "text": [
      "<class 'pandas.core.frame.DataFrame'>\n",
      "Index: 11833 entries, 3989 to 6156\n",
      "Data columns (total 3 columns):\n",
      " #   Column     Non-Null Count  Dtype \n",
      "---  ------     --------------  ----- \n",
      " 0   Show       11833 non-null  object\n",
      " 1   Sentiment  11833 non-null  int64 \n",
      " 2   Review     11832 non-null  object\n",
      "dtypes: int64(1), object(2)\n",
      "memory usage: 369.8+ KB\n"
     ]
    }
   ],
   "source": [
    "unlabeled_reviews.info()"
   ]
  },
  {
   "cell_type": "code",
   "execution_count": 9,
   "id": "1519c14f",
   "metadata": {},
   "outputs": [
    {
     "data": {
      "text/plain": [
       "Show         0\n",
       "Sentiment    0\n",
       "Review       1\n",
       "dtype: int64"
      ]
     },
     "execution_count": 9,
     "metadata": {},
     "output_type": "execute_result"
    }
   ],
   "source": [
    "unlabeled_reviews.isna().sum()"
   ]
  },
  {
   "cell_type": "code",
   "execution_count": 10,
   "id": "01341101",
   "metadata": {},
   "outputs": [
    {
     "name": "stdout",
     "output_type": "stream",
     "text": [
      "<class 'pandas.core.frame.DataFrame'>\n",
      "Index: 11832 entries, 3989 to 6156\n",
      "Data columns (total 3 columns):\n",
      " #   Column     Non-Null Count  Dtype \n",
      "---  ------     --------------  ----- \n",
      " 0   Show       11832 non-null  object\n",
      " 1   Sentiment  11832 non-null  int64 \n",
      " 2   Review     11832 non-null  object\n",
      "dtypes: int64(1), object(2)\n",
      "memory usage: 369.8+ KB\n"
     ]
    }
   ],
   "source": [
    "unlabeled_reviews = unlabeled_reviews.dropna()\n",
    "unlabeled_reviews.info()"
   ]
  },
  {
   "cell_type": "code",
   "execution_count": 11,
   "id": "668646b3",
   "metadata": {},
   "outputs": [],
   "source": [
    "# Обучение модели на размеченных данных\n",
    "def train_model(labeled_data):\n",
    "    vect = TfidfVectorizer()\n",
    "    x = vect.fit_transform(labeled_data['Review'])\n",
    "    y = labeled_data['Sentiment']\n",
    "    model = LogisticRegression()\n",
    "    model.fit(x,y)\n",
    "    return model, vect\n",
    "\n",
    "model, vect = train_model(labeled_reviews)"
   ]
  },
  {
   "cell_type": "code",
   "execution_count": 12,
   "id": "aadf7038",
   "metadata": {},
   "outputs": [],
   "source": [
    "x_unlabeled = vect.transform(unlabeled_reviews['Review'])\n",
    "y_unlabeled_predicted = model.predict(x_unlabeled)"
   ]
  },
  {
   "cell_type": "code",
   "execution_count": 13,
   "id": "b198279c",
   "metadata": {},
   "outputs": [
    {
     "name": "stdout",
     "output_type": "stream",
     "text": [
      "[0.58980195 0.53875065 0.61375795 ... 0.65963996 0.54177232 0.4492508 ]\n"
     ]
    }
   ],
   "source": [
    "y_unlabeled_proba = model.predict_proba(x_unlabeled)\n",
    "uncertainty = -(y_unlabeled_proba * np.log2(y_unlabeled_proba)).sum(axis=1)\n",
    "print(uncertainty)"
   ]
  },
  {
   "cell_type": "code",
   "execution_count": 14,
   "id": "c2cdd779",
   "metadata": {},
   "outputs": [
    {
     "data": {
      "text/html": [
       "<div>\n",
       "<style scoped>\n",
       "    .dataframe tbody tr th:only-of-type {\n",
       "        vertical-align: middle;\n",
       "    }\n",
       "\n",
       "    .dataframe tbody tr th {\n",
       "        vertical-align: top;\n",
       "    }\n",
       "\n",
       "    .dataframe thead th {\n",
       "        text-align: right;\n",
       "    }\n",
       "</style>\n",
       "<table border=\"1\" class=\"dataframe\">\n",
       "  <thead>\n",
       "    <tr style=\"text-align: right;\">\n",
       "      <th></th>\n",
       "      <th>Show</th>\n",
       "      <th>Sentiment</th>\n",
       "      <th>Review</th>\n",
       "    </tr>\n",
       "  </thead>\n",
       "  <tbody>\n",
       "    <tr>\n",
       "      <th>14049</th>\n",
       "      <td>Battlestar Galactica</td>\n",
       "      <td>1</td>\n",
       "      <td>Well-written with some inspired production des...</td>\n",
       "    </tr>\n",
       "    <tr>\n",
       "      <th>13050</th>\n",
       "      <td>The Crown</td>\n",
       "      <td>1</td>\n",
       "      <td>Sheesh. It's still a great watch.</td>\n",
       "    </tr>\n",
       "    <tr>\n",
       "      <th>9948</th>\n",
       "      <td>Community</td>\n",
       "      <td>1</td>\n",
       "      <td>The heart remains the same. If you loved it be...</td>\n",
       "    </tr>\n",
       "    <tr>\n",
       "      <th>12391</th>\n",
       "      <td>Bridgerton</td>\n",
       "      <td>1</td>\n",
       "      <td>Still beautiful, still fun and still excellent.</td>\n",
       "    </tr>\n",
       "    <tr>\n",
       "      <th>2951</th>\n",
       "      <td>We Own This City</td>\n",
       "      <td>1</td>\n",
       "      <td>If you're a fan of The Wire (as I am) and cons...</td>\n",
       "    </tr>\n",
       "    <tr>\n",
       "      <th>...</th>\n",
       "      <td>...</td>\n",
       "      <td>...</td>\n",
       "      <td>...</td>\n",
       "    </tr>\n",
       "    <tr>\n",
       "      <th>12536</th>\n",
       "      <td>After Life</td>\n",
       "      <td>1</td>\n",
       "      <td>Season three provides a sweet and satisfying f...</td>\n",
       "    </tr>\n",
       "    <tr>\n",
       "      <th>119</th>\n",
       "      <td>Loot</td>\n",
       "      <td>1</td>\n",
       "      <td>The supporting cast is terrific, though my eye...</td>\n",
       "    </tr>\n",
       "    <tr>\n",
       "      <th>12439</th>\n",
       "      <td>Inventing Anna</td>\n",
       "      <td>1</td>\n",
       "      <td>It is one of those shows that plunges you stra...</td>\n",
       "    </tr>\n",
       "    <tr>\n",
       "      <th>241</th>\n",
       "      <td>Severance</td>\n",
       "      <td>1</td>\n",
       "      <td>If you are like me, you are going to finish ea...</td>\n",
       "    </tr>\n",
       "    <tr>\n",
       "      <th>9539</th>\n",
       "      <td>A Very English Scandal</td>\n",
       "      <td>1</td>\n",
       "      <td>There are few stories on TV told as well (and ...</td>\n",
       "    </tr>\n",
       "  </tbody>\n",
       "</table>\n",
       "<p>100 rows × 3 columns</p>\n",
       "</div>"
      ],
      "text/plain": [
       "                         Show  Sentiment  \\\n",
       "14049    Battlestar Galactica          1   \n",
       "13050               The Crown          1   \n",
       "9948                Community          1   \n",
       "12391              Bridgerton          1   \n",
       "2951         We Own This City          1   \n",
       "...                       ...        ...   \n",
       "12536              After Life          1   \n",
       "119                      Loot          1   \n",
       "12439          Inventing Anna          1   \n",
       "241                 Severance          1   \n",
       "9539   A Very English Scandal          1   \n",
       "\n",
       "                                                  Review  \n",
       "14049  Well-written with some inspired production des...  \n",
       "13050                  Sheesh. It's still a great watch.  \n",
       "9948   The heart remains the same. If you loved it be...  \n",
       "12391    Still beautiful, still fun and still excellent.  \n",
       "2951   If you're a fan of The Wire (as I am) and cons...  \n",
       "...                                                  ...  \n",
       "12536  Season three provides a sweet and satisfying f...  \n",
       "119    The supporting cast is terrific, though my eye...  \n",
       "12439  It is one of those shows that plunges you stra...  \n",
       "241    If you are like me, you are going to finish ea...  \n",
       "9539   There are few stories on TV told as well (and ...  \n",
       "\n",
       "[100 rows x 3 columns]"
      ]
     },
     "execution_count": 14,
     "metadata": {},
     "output_type": "execute_result"
    }
   ],
   "source": [
    "# Выбираем 100 самых неопределенных точек данных, разметку которых нужно выполнить вручную\n",
    "labeled_reviews_new = unlabeled_reviews.iloc[uncertainty.argsort()[:100]]\n",
    "unlabeled_reviews_new = unlabeled_reviews.iloc[uncertainty.argsort()[100:]]\n",
    "labeled_reviews_new\n"
   ]
  },
  {
   "cell_type": "markdown",
   "id": "86e63357",
   "metadata": {},
   "source": [
    "## Задача 3.\n",
    "\n",
    "Выполните разметку вручную отдельного подмножества выбранного датасета с помощью выбранного вами инструмента разметки."
   ]
  },
  {
   "cell_type": "code",
   "execution_count": 15,
   "id": "2a7bc61a",
   "metadata": {},
   "outputs": [],
   "source": [
    "labeled_reviews_new.to_csv('temp.csv', index=False) # сохранение данных для ручной разметки"
   ]
  },
  {
   "cell_type": "markdown",
   "id": "6b8c9259",
   "metadata": {},
   "source": [
    "pip install label-studio\n",
    "\n",
    "label-studio\n",
    "\n",
    "localhost:8081/projects\n",
    "\n",
    "![img1](ls-1.png)\n",
    "![img2](ls-2.png)\n",
    "![img3](ls-3.png)\n"
   ]
  },
  {
   "cell_type": "code",
   "execution_count": 16,
   "id": "81b2b472",
   "metadata": {},
   "outputs": [
    {
     "data": {
      "text/html": [
       "<div>\n",
       "<style scoped>\n",
       "    .dataframe tbody tr th:only-of-type {\n",
       "        vertical-align: middle;\n",
       "    }\n",
       "\n",
       "    .dataframe tbody tr th {\n",
       "        vertical-align: top;\n",
       "    }\n",
       "\n",
       "    .dataframe thead th {\n",
       "        text-align: right;\n",
       "    }\n",
       "</style>\n",
       "<table border=\"1\" class=\"dataframe\">\n",
       "  <thead>\n",
       "    <tr style=\"text-align: right;\">\n",
       "      <th></th>\n",
       "      <th>Show</th>\n",
       "      <th>Sentiment</th>\n",
       "      <th>Review</th>\n",
       "    </tr>\n",
       "  </thead>\n",
       "  <tbody>\n",
       "    <tr>\n",
       "      <th>0</th>\n",
       "      <td>Battlestar Galactica</td>\n",
       "      <td>1</td>\n",
       "      <td>Well-written with some inspired production des...</td>\n",
       "    </tr>\n",
       "    <tr>\n",
       "      <th>1</th>\n",
       "      <td>The Crown</td>\n",
       "      <td>1</td>\n",
       "      <td>Sheesh. It's still a great watch.</td>\n",
       "    </tr>\n",
       "    <tr>\n",
       "      <th>2</th>\n",
       "      <td>Community</td>\n",
       "      <td>1</td>\n",
       "      <td>The heart remains the same. If you loved it be...</td>\n",
       "    </tr>\n",
       "    <tr>\n",
       "      <th>3</th>\n",
       "      <td>Bridgerton</td>\n",
       "      <td>1</td>\n",
       "      <td>Still beautiful, still fun and still excellent.</td>\n",
       "    </tr>\n",
       "    <tr>\n",
       "      <th>4</th>\n",
       "      <td>We Own This City</td>\n",
       "      <td>1</td>\n",
       "      <td>If you're a fan of The Wire (as I am) and cons...</td>\n",
       "    </tr>\n",
       "    <tr>\n",
       "      <th>...</th>\n",
       "      <td>...</td>\n",
       "      <td>...</td>\n",
       "      <td>...</td>\n",
       "    </tr>\n",
       "    <tr>\n",
       "      <th>95</th>\n",
       "      <td>After Life</td>\n",
       "      <td>1</td>\n",
       "      <td>Season three provides a sweet and satisfying f...</td>\n",
       "    </tr>\n",
       "    <tr>\n",
       "      <th>96</th>\n",
       "      <td>Loot</td>\n",
       "      <td>1</td>\n",
       "      <td>The supporting cast is terrific, though my eye...</td>\n",
       "    </tr>\n",
       "    <tr>\n",
       "      <th>97</th>\n",
       "      <td>Inventing Anna</td>\n",
       "      <td>1</td>\n",
       "      <td>It is one of those shows that plunges you stra...</td>\n",
       "    </tr>\n",
       "    <tr>\n",
       "      <th>98</th>\n",
       "      <td>Severance</td>\n",
       "      <td>1</td>\n",
       "      <td>If you are like me, you are going to finish ea...</td>\n",
       "    </tr>\n",
       "    <tr>\n",
       "      <th>99</th>\n",
       "      <td>A Very English Scandal</td>\n",
       "      <td>1</td>\n",
       "      <td>There are few stories on TV told as well (and ...</td>\n",
       "    </tr>\n",
       "  </tbody>\n",
       "</table>\n",
       "<p>100 rows × 3 columns</p>\n",
       "</div>"
      ],
      "text/plain": [
       "                      Show  Sentiment  \\\n",
       "0     Battlestar Galactica          1   \n",
       "1                The Crown          1   \n",
       "2                Community          1   \n",
       "3               Bridgerton          1   \n",
       "4         We Own This City          1   \n",
       "..                     ...        ...   \n",
       "95              After Life          1   \n",
       "96                    Loot          1   \n",
       "97          Inventing Anna          1   \n",
       "98               Severance          1   \n",
       "99  A Very English Scandal          1   \n",
       "\n",
       "                                               Review  \n",
       "0   Well-written with some inspired production des...  \n",
       "1                   Sheesh. It's still a great watch.  \n",
       "2   The heart remains the same. If you loved it be...  \n",
       "3     Still beautiful, still fun and still excellent.  \n",
       "4   If you're a fan of The Wire (as I am) and cons...  \n",
       "..                                                ...  \n",
       "95  Season three provides a sweet and satisfying f...  \n",
       "96  The supporting cast is terrific, though my eye...  \n",
       "97  It is one of those shows that plunges you stra...  \n",
       "98  If you are like me, you are going to finish ea...  \n",
       "99  There are few stories on TV told as well (and ...  \n",
       "\n",
       "[100 rows x 3 columns]"
      ]
     },
     "execution_count": 16,
     "metadata": {},
     "output_type": "execute_result"
    }
   ],
   "source": [
    "# загрузка данных после ручной разметки\n",
    "labeled_reviews_new = pd.read_csv(\"temp.csv\", engine='python', encoding='utf-8', on_bad_lines=\"skip\", encoding_errors=\"ignore\")\n",
    "labeled_reviews_new"
   ]
  },
  {
   "cell_type": "markdown",
   "id": "f219db05",
   "metadata": {},
   "source": [
    "## Задача 4.\n",
    "\n",
    "Объедините данные, размеченные вручную, с данными, размеченными на основе правил. Объедините два подмножества размеченных данных в один набор данных, сохранив при этом соответствующую структуру и целостность."
   ]
  },
  {
   "cell_type": "code",
   "execution_count": 17,
   "id": "b06cc235",
   "metadata": {},
   "outputs": [],
   "source": [
    "labeled_reviews_united = pd.concat([labeled_reviews, labeled_reviews_new])\n"
   ]
  },
  {
   "cell_type": "code",
   "execution_count": 18,
   "id": "f45c1e37",
   "metadata": {},
   "outputs": [
    {
     "data": {
      "text/html": [
       "<div>\n",
       "<style scoped>\n",
       "    .dataframe tbody tr th:only-of-type {\n",
       "        vertical-align: middle;\n",
       "    }\n",
       "\n",
       "    .dataframe tbody tr th {\n",
       "        vertical-align: top;\n",
       "    }\n",
       "\n",
       "    .dataframe thead th {\n",
       "        text-align: right;\n",
       "    }\n",
       "</style>\n",
       "<table border=\"1\" class=\"dataframe\">\n",
       "  <thead>\n",
       "    <tr style=\"text-align: right;\">\n",
       "      <th></th>\n",
       "      <th>Show</th>\n",
       "      <th>Sentiment</th>\n",
       "      <th>Review</th>\n",
       "    </tr>\n",
       "  </thead>\n",
       "  <tbody>\n",
       "    <tr>\n",
       "      <th>11242</th>\n",
       "      <td>The Umbrella Academy</td>\n",
       "      <td>1</td>\n",
       "      <td>While The Umbrella Academy borrows plot points...</td>\n",
       "    </tr>\n",
       "    <tr>\n",
       "      <th>13189</th>\n",
       "      <td>BoJack Horseman</td>\n",
       "      <td>1</td>\n",
       "      <td>The show's latest season...goes a step further...</td>\n",
       "    </tr>\n",
       "    <tr>\n",
       "      <th>2270</th>\n",
       "      <td>The Twilight Zone</td>\n",
       "      <td>1</td>\n",
       "      <td>Season 2 is satisfyingly spooky and twisted, w...</td>\n",
       "    </tr>\n",
       "    <tr>\n",
       "      <th>1811</th>\n",
       "      <td>Halo</td>\n",
       "      <td>1</td>\n",
       "      <td>Halo (2022) works for me, and I hope it works ...</td>\n",
       "    </tr>\n",
       "    <tr>\n",
       "      <th>4667</th>\n",
       "      <td>Veep</td>\n",
       "      <td>0</td>\n",
       "      <td>[The] opening gave me hope that I was in for a...</td>\n",
       "    </tr>\n",
       "    <tr>\n",
       "      <th>...</th>\n",
       "      <td>...</td>\n",
       "      <td>...</td>\n",
       "      <td>...</td>\n",
       "    </tr>\n",
       "    <tr>\n",
       "      <th>95</th>\n",
       "      <td>After Life</td>\n",
       "      <td>1</td>\n",
       "      <td>Season three provides a sweet and satisfying f...</td>\n",
       "    </tr>\n",
       "    <tr>\n",
       "      <th>96</th>\n",
       "      <td>Loot</td>\n",
       "      <td>1</td>\n",
       "      <td>The supporting cast is terrific, though my eye...</td>\n",
       "    </tr>\n",
       "    <tr>\n",
       "      <th>97</th>\n",
       "      <td>Inventing Anna</td>\n",
       "      <td>1</td>\n",
       "      <td>It is one of those shows that plunges you stra...</td>\n",
       "    </tr>\n",
       "    <tr>\n",
       "      <th>98</th>\n",
       "      <td>Severance</td>\n",
       "      <td>1</td>\n",
       "      <td>If you are like me, you are going to finish ea...</td>\n",
       "    </tr>\n",
       "    <tr>\n",
       "      <th>99</th>\n",
       "      <td>A Very English Scandal</td>\n",
       "      <td>1</td>\n",
       "      <td>There are few stories on TV told as well (and ...</td>\n",
       "    </tr>\n",
       "  </tbody>\n",
       "</table>\n",
       "<p>3058 rows × 3 columns</p>\n",
       "</div>"
      ],
      "text/plain": [
       "                         Show  Sentiment  \\\n",
       "11242    The Umbrella Academy          1   \n",
       "13189         BoJack Horseman          1   \n",
       "2270        The Twilight Zone          1   \n",
       "1811                     Halo          1   \n",
       "4667                     Veep          0   \n",
       "...                       ...        ...   \n",
       "95                 After Life          1   \n",
       "96                       Loot          1   \n",
       "97             Inventing Anna          1   \n",
       "98                  Severance          1   \n",
       "99     A Very English Scandal          1   \n",
       "\n",
       "                                                  Review  \n",
       "11242  While The Umbrella Academy borrows plot points...  \n",
       "13189  The show's latest season...goes a step further...  \n",
       "2270   Season 2 is satisfyingly spooky and twisted, w...  \n",
       "1811   Halo (2022) works for me, and I hope it works ...  \n",
       "4667   [The] opening gave me hope that I was in for a...  \n",
       "...                                                  ...  \n",
       "95     Season three provides a sweet and satisfying f...  \n",
       "96     The supporting cast is terrific, though my eye...  \n",
       "97     It is one of those shows that plunges you stra...  \n",
       "98     If you are like me, you are going to finish ea...  \n",
       "99     There are few stories on TV told as well (and ...  \n",
       "\n",
       "[3058 rows x 3 columns]"
      ]
     },
     "execution_count": 18,
     "metadata": {},
     "output_type": "execute_result"
    }
   ],
   "source": [
    "labeled_reviews_united"
   ]
  },
  {
   "cell_type": "markdown",
   "id": "113a6a3c",
   "metadata": {},
   "source": [
    "## Задача 5.\n",
    "\n",
    "Обучите модель машинного обучения, используя объединенный набор размеченных данных. Разделите датасет на обучающий и тестовый наборы и используйте обучающий набор для обучения модели."
   ]
  },
  {
   "cell_type": "code",
   "execution_count": 19,
   "id": "4e0112d3",
   "metadata": {},
   "outputs": [],
   "source": [
    "model, vect = train_model(labeled_reviews_united)"
   ]
  },
  {
   "cell_type": "code",
   "execution_count": 20,
   "id": "a05e321d",
   "metadata": {},
   "outputs": [
    {
     "data": {
      "text/html": [
       "<div>\n",
       "<style scoped>\n",
       "    .dataframe tbody tr th:only-of-type {\n",
       "        vertical-align: middle;\n",
       "    }\n",
       "\n",
       "    .dataframe tbody tr th {\n",
       "        vertical-align: top;\n",
       "    }\n",
       "\n",
       "    .dataframe thead th {\n",
       "        text-align: right;\n",
       "    }\n",
       "</style>\n",
       "<table border=\"1\" class=\"dataframe\">\n",
       "  <thead>\n",
       "    <tr style=\"text-align: right;\">\n",
       "      <th></th>\n",
       "      <th>Show</th>\n",
       "      <th>Sentiment</th>\n",
       "      <th>Review</th>\n",
       "    </tr>\n",
       "  </thead>\n",
       "  <tbody>\n",
       "    <tr>\n",
       "      <th>3989</th>\n",
       "      <td>Mare of Easttown</td>\n",
       "      <td>1</td>\n",
       "      <td>A seven-part series whose powers derive as muc...</td>\n",
       "    </tr>\n",
       "    <tr>\n",
       "      <th>3692</th>\n",
       "      <td>Doom Patrol</td>\n",
       "      <td>1</td>\n",
       "      <td>Michelle Gomez's arrival on Doom Patrol is pit...</td>\n",
       "    </tr>\n",
       "    <tr>\n",
       "      <th>9340</th>\n",
       "      <td>Lost</td>\n",
       "      <td>1</td>\n",
       "      <td>The themes persist, the characters persist, th...</td>\n",
       "    </tr>\n",
       "    <tr>\n",
       "      <th>3470</th>\n",
       "      <td>Tokyo Vice</td>\n",
       "      <td>1</td>\n",
       "      <td>It may not be as hip as Miami Vice, but Tokyo ...</td>\n",
       "    </tr>\n",
       "    <tr>\n",
       "      <th>5304</th>\n",
       "      <td>Deadwood</td>\n",
       "      <td>1</td>\n",
       "      <td>Deadwood is that rarest of all rare birds, a g...</td>\n",
       "    </tr>\n",
       "    <tr>\n",
       "      <th>...</th>\n",
       "      <td>...</td>\n",
       "      <td>...</td>\n",
       "      <td>...</td>\n",
       "    </tr>\n",
       "    <tr>\n",
       "      <th>1603</th>\n",
       "      <td>They Call Me Magic</td>\n",
       "      <td>1</td>\n",
       "      <td>“Magic” gives us a lot of material, all of whi...</td>\n",
       "    </tr>\n",
       "    <tr>\n",
       "      <th>12086</th>\n",
       "      <td>The Witcher</td>\n",
       "      <td>1</td>\n",
       "      <td>By expanding its scope, The Witcher lays out i...</td>\n",
       "    </tr>\n",
       "    <tr>\n",
       "      <th>5862</th>\n",
       "      <td>30 Coins</td>\n",
       "      <td>1</td>\n",
       "      <td>The result is a series that resembles classic ...</td>\n",
       "    </tr>\n",
       "    <tr>\n",
       "      <th>8260</th>\n",
       "      <td>Rise</td>\n",
       "      <td>0</td>\n",
       "      <td>When Rise shifts focus to one of Robbie's big ...</td>\n",
       "    </tr>\n",
       "    <tr>\n",
       "      <th>6156</th>\n",
       "      <td>Moon Knight</td>\n",
       "      <td>1</td>\n",
       "      <td>A smart, thrilling adventure that questions th...</td>\n",
       "    </tr>\n",
       "  </tbody>\n",
       "</table>\n",
       "<p>11832 rows × 3 columns</p>\n",
       "</div>"
      ],
      "text/plain": [
       "                     Show  Sentiment  \\\n",
       "3989     Mare of Easttown          1   \n",
       "3692          Doom Patrol          1   \n",
       "9340                 Lost          1   \n",
       "3470           Tokyo Vice          1   \n",
       "5304             Deadwood          1   \n",
       "...                   ...        ...   \n",
       "1603   They Call Me Magic          1   \n",
       "12086         The Witcher          1   \n",
       "5862             30 Coins          1   \n",
       "8260                 Rise          0   \n",
       "6156          Moon Knight          1   \n",
       "\n",
       "                                                  Review  \n",
       "3989   A seven-part series whose powers derive as muc...  \n",
       "3692   Michelle Gomez's arrival on Doom Patrol is pit...  \n",
       "9340   The themes persist, the characters persist, th...  \n",
       "3470   It may not be as hip as Miami Vice, but Tokyo ...  \n",
       "5304   Deadwood is that rarest of all rare birds, a g...  \n",
       "...                                                  ...  \n",
       "1603   “Magic” gives us a lot of material, all of whi...  \n",
       "12086  By expanding its scope, The Witcher lays out i...  \n",
       "5862   The result is a series that resembles classic ...  \n",
       "8260   When Rise shifts focus to one of Robbie's big ...  \n",
       "6156   A smart, thrilling adventure that questions th...  \n",
       "\n",
       "[11832 rows x 3 columns]"
      ]
     },
     "execution_count": 20,
     "metadata": {},
     "output_type": "execute_result"
    }
   ],
   "source": [
    "reviews_test = unlabeled_reviews\n",
    "reviews_test"
   ]
  },
  {
   "cell_type": "code",
   "execution_count": 21,
   "id": "682777cd",
   "metadata": {},
   "outputs": [
    {
     "data": {
      "text/plain": [
       "array([1, 1, 1, ..., 1, 1, 1], dtype=int64)"
      ]
     },
     "execution_count": 21,
     "metadata": {},
     "output_type": "execute_result"
    }
   ],
   "source": [
    "x_test = vect.transform(reviews_test['Review'])\n",
    "y_test_predicted = model.predict(x_test)\n",
    "y_test_predicted"
   ]
  },
  {
   "cell_type": "markdown",
   "id": "c131ef81",
   "metadata": {},
   "source": [
    "## Задача 6.\n",
    "\n",
    "Оценить эффективность обученной модели на тестовом датасете. Используйте подходящие метрики оценки. Интерпретируйте результаты и проанализируйте эффективность модели в решении задачи разметки."
   ]
  },
  {
   "cell_type": "code",
   "execution_count": 22,
   "id": "2e82253e",
   "metadata": {},
   "outputs": [
    {
     "data": {
      "text/plain": [
       "0.9159983502130975"
      ]
     },
     "execution_count": 22,
     "metadata": {},
     "output_type": "execute_result"
    }
   ],
   "source": [
    "f1 = f1_score(reviews_test['Sentiment'], y_test_predicted)\n",
    "f1"
   ]
  }
 ],
 "metadata": {
  "kernelspec": {
   "display_name": "Python 3 (ipykernel)",
   "language": "python",
   "name": "python3"
  },
  "language_info": {
   "codemirror_mode": {
    "name": "ipython",
    "version": 3
   },
   "file_extension": ".py",
   "mimetype": "text/x-python",
   "name": "python",
   "nbconvert_exporter": "python",
   "pygments_lexer": "ipython3",
   "version": "3.11.9"
  }
 },
 "nbformat": 4,
 "nbformat_minor": 5
}
