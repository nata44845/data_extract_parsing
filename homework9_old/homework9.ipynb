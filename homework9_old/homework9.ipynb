{
 "cells": [
  {
   "cell_type": "markdown",
   "metadata": {},
   "source": [
    "# Домашняя работа 9\n",
    "\n",
    "Задание 1.\n",
    "Выберите датасет, который имеет отношение к вашей области интересов или исследований. Датасет должен содержать неструктурированные данные, требующие разметки для решения конкретной задачи, например, анализа настроений или распознавания именованных сущностей.\n",
    "\n",
    "Задание 2.\n",
    "Выполните разметку на основе правил (rule-based labeling) на подмножестве выбранного датасета. Разработайте и реализуйте набор правил или условий, которые позволят автоматически присваивать метки данным на основе определенных шаблонов или критериев.\n",
    "\n",
    "Задача 3.\n",
    "Выполните разметку вручную отдельного подмножества выбранного датасета с помощью выбранного вами инструмента разметки.\n",
    "\n",
    "Задача 4.\n",
    "Объедините данные, размеченные вручную, с данными, размеченными на основе правил. Объедините два подмножества размеченных данных в один набор данных, сохранив при этом соответствующую структуру и целостность.\n",
    "\n",
    "Задача 5.\n",
    "Обучите модель машинного обучения, используя объединенный набор размеченных данных. Разделите датасет на обучающий и тестовый наборы и используйте обучающий набор для обучения модели.\n",
    "\n",
    "Задача 6.\n",
    "Оценить эффективность обученной модели на тестовом датасете. Используйте подходящие метрики оценки. Интерпретируйте результаты и проанализируйте эффективность модели в решении задачи разметки."
   ]
  },
  {
   "cell_type": "markdown",
   "metadata": {},
   "source": [
    "Данные были извлечены с сайта https://www.sports.ru/football/club/\n",
    "В этом датасете собрана информация о футбольных клубах, необходимо разделить количество подписчиков клубов по категориям: High, Megium, Low, Zero. \n",
    "Мы разделим датасет на несколько частей: в первой части мы проведем разметку с помощью правил для разметки, во второй части проведем разметку в Label Studio."
   ]
  },
  {
   "cell_type": "code",
   "execution_count": 139,
   "metadata": {},
   "outputs": [],
   "source": [
    "import pandas as pd\n",
    "import matplotlib\n",
    "from sklearn.feature_extraction.text import TfidfVectorizer\n",
    "from sklearn.linear_model import LogisticRegression\n",
    "from sklearn.model_selection import train_test_split\n",
    "from sklearn.metrics import f1_score\n",
    "from sklearn.utils import shuffle"
   ]
  },
  {
   "cell_type": "markdown",
   "metadata": {},
   "source": [
    "Задание 1.\n",
    "Выберите датасет, который имеет отношение к вашей области интересов или исследований. Датасет должен содержать неструктурированные данные, требующие разметки для решения конкретной задачи, например, анализа настроений или распознавания именованных сущностей."
   ]
  },
  {
   "cell_type": "code",
   "execution_count": 140,
   "metadata": {},
   "outputs": [],
   "source": [
    "data = pd.read_csv(\"football.csv\")"
   ]
  },
  {
   "cell_type": "code",
   "execution_count": 141,
   "metadata": {},
   "outputs": [
    {
     "data": {
      "text/html": [
       "<div>\n",
       "<style scoped>\n",
       "    .dataframe tbody tr th:only-of-type {\n",
       "        vertical-align: middle;\n",
       "    }\n",
       "\n",
       "    .dataframe tbody tr th {\n",
       "        vertical-align: top;\n",
       "    }\n",
       "\n",
       "    .dataframe thead th {\n",
       "        text-align: right;\n",
       "    }\n",
       "</style>\n",
       "<table border=\"1\" class=\"dataframe\">\n",
       "  <thead>\n",
       "    <tr style=\"text-align: right;\">\n",
       "      <th></th>\n",
       "      <th>num</th>\n",
       "      <th>name</th>\n",
       "      <th>city</th>\n",
       "      <th>country</th>\n",
       "      <th>coach</th>\n",
       "      <th>count_f</th>\n",
       "      <th>url</th>\n",
       "    </tr>\n",
       "  </thead>\n",
       "  <tbody>\n",
       "    <tr>\n",
       "      <th>0</th>\n",
       "      <td>28</td>\n",
       "      <td>Валенсия</td>\n",
       "      <td>Валенсия</td>\n",
       "      <td>Испания</td>\n",
       "      <td>Рубен Бараха</td>\n",
       "      <td>10900</td>\n",
       "      <td>https://www.sports.ru/football/club/valencia/</td>\n",
       "    </tr>\n",
       "    <tr>\n",
       "      <th>1</th>\n",
       "      <td>25</td>\n",
       "      <td>Рубин</td>\n",
       "      <td>Казань</td>\n",
       "      <td>Россия</td>\n",
       "      <td>Рашид Рахимов</td>\n",
       "      <td>17003</td>\n",
       "      <td>https://www.sports.ru/football/club/rubin/</td>\n",
       "    </tr>\n",
       "    <tr>\n",
       "      <th>2</th>\n",
       "      <td>29</td>\n",
       "      <td>Крылья Советов</td>\n",
       "      <td>Самара</td>\n",
       "      <td>Россия</td>\n",
       "      <td>Игорь Осинькин</td>\n",
       "      <td>10400</td>\n",
       "      <td>https://www.sports.ru/football/club/krylia-sov...</td>\n",
       "    </tr>\n",
       "    <tr>\n",
       "      <th>3</th>\n",
       "      <td>26</td>\n",
       "      <td>Монако</td>\n",
       "      <td>Монако</td>\n",
       "      <td>Монако</td>\n",
       "      <td>Ади Хюттер</td>\n",
       "      <td>14334</td>\n",
       "      <td>https://www.sports.ru/football/club/monaco/</td>\n",
       "    </tr>\n",
       "    <tr>\n",
       "      <th>4</th>\n",
       "      <td>30</td>\n",
       "      <td>Анжи</td>\n",
       "      <td>Махачкала</td>\n",
       "      <td>Россия</td>\n",
       "      <td>NaN</td>\n",
       "      <td>10352</td>\n",
       "      <td>https://www.sports.ru/football/club/anzhi/</td>\n",
       "    </tr>\n",
       "  </tbody>\n",
       "</table>\n",
       "</div>"
      ],
      "text/plain": [
       "   num            name       city  country           coach  count_f  \\\n",
       "0   28        Валенсия   Валенсия  Испания    Рубен Бараха    10900   \n",
       "1   25           Рубин     Казань   Россия   Рашид Рахимов    17003   \n",
       "2   29  Крылья Советов     Самара   Россия  Игорь Осинькин    10400   \n",
       "3   26          Монако     Монако   Монако      Ади Хюттер    14334   \n",
       "4   30            Анжи  Махачкала   Россия             NaN    10352   \n",
       "\n",
       "                                                 url  \n",
       "0      https://www.sports.ru/football/club/valencia/  \n",
       "1         https://www.sports.ru/football/club/rubin/  \n",
       "2  https://www.sports.ru/football/club/krylia-sov...  \n",
       "3        https://www.sports.ru/football/club/monaco/  \n",
       "4         https://www.sports.ru/football/club/anzhi/  "
      ]
     },
     "execution_count": 141,
     "metadata": {},
     "output_type": "execute_result"
    }
   ],
   "source": [
    "data.head()"
   ]
  },
  {
   "cell_type": "code",
   "execution_count": 142,
   "metadata": {},
   "outputs": [
    {
     "name": "stdout",
     "output_type": "stream",
     "text": [
      "<class 'pandas.core.frame.DataFrame'>\n",
      "RangeIndex: 9702 entries, 0 to 9701\n",
      "Data columns (total 7 columns):\n",
      " #   Column   Non-Null Count  Dtype \n",
      "---  ------   --------------  ----- \n",
      " 0   num      9702 non-null   int64 \n",
      " 1   name     9702 non-null   object\n",
      " 2   city     2980 non-null   object\n",
      " 3   country  9699 non-null   object\n",
      " 4   coach    299 non-null    object\n",
      " 5   count_f  9702 non-null   int64 \n",
      " 6   url      9702 non-null   object\n",
      "dtypes: int64(2), object(5)\n",
      "memory usage: 530.7+ KB\n"
     ]
    }
   ],
   "source": [
    "data.info()"
   ]
  },
  {
   "cell_type": "markdown",
   "metadata": {},
   "source": [
    "Задание 2.\n",
    "Выполните разметку на основе правил (rule-based labeling) на подмножестве выбранного датасета. Разработайте и реализуйте набор правил или условий, которые позволят автоматически присваивать метки данным на основе определенных шаблонов или критериев."
   ]
  },
  {
   "cell_type": "code",
   "execution_count": 143,
   "metadata": {},
   "outputs": [],
   "source": [
    "# Разделение датасета на две выборки\n",
    "data = shuffle(data)\n",
    "data_hand, data_auto = train_test_split(data, train_size=0.01, random_state=42)\n",
    "data_hand.to_csv(\"football_train.csv\", header=True, index=False)"
   ]
  },
  {
   "cell_type": "code",
   "execution_count": 144,
   "metadata": {},
   "outputs": [
    {
     "name": "stdout",
     "output_type": "stream",
     "text": [
      "<class 'pandas.core.frame.DataFrame'>\n",
      "Index: 9605 entries, 8812 to 1764\n",
      "Data columns (total 7 columns):\n",
      " #   Column   Non-Null Count  Dtype \n",
      "---  ------   --------------  ----- \n",
      " 0   num      9605 non-null   int64 \n",
      " 1   name     9605 non-null   object\n",
      " 2   city     2953 non-null   object\n",
      " 3   country  9602 non-null   object\n",
      " 4   coach    296 non-null    object\n",
      " 5   count_f  9605 non-null   int64 \n",
      " 6   url      9605 non-null   object\n",
      "dtypes: int64(2), object(5)\n",
      "memory usage: 600.3+ KB\n"
     ]
    }
   ],
   "source": [
    "data_auto.info()"
   ]
  },
  {
   "cell_type": "code",
   "execution_count": 145,
   "metadata": {},
   "outputs": [
    {
     "data": {
      "text/plain": [
       "<Axes: >"
      ]
     },
     "execution_count": 145,
     "metadata": {},
     "output_type": "execute_result"
    },
    {
     "data": {
      "image/png": "[encoded data removed]",
      "text/plain": [
       "<Figure size 640x480 with 1 Axes>"
      ]
     },
     "metadata": {},
     "output_type": "display_data"
    }
   ],
   "source": [
    "data_auto[\"count_f\"].hist()"
   ]
  },
  {
   "cell_type": "code",
   "execution_count": 146,
   "metadata": {},
   "outputs": [],
   "source": [
    "def rule_based_labeling(row):\n",
    "    if row['count_f'] >=5_000:\n",
    "        return \"High\"\n",
    "    elif 20 <= row['count_f'] < 5_000:\n",
    "        return \"Medium\"\n",
    "    elif 1<= row['count_f']< 20:\n",
    "        return \"Low\"\n",
    "    else:\n",
    "        return \"Zero\" "
   ]
  },
  {
   "cell_type": "code",
   "execution_count": 157,
   "metadata": {},
   "outputs": [],
   "source": [
    "data_auto[\"sentiment\"] = data.apply(rule_based_labeling, axis=1)"
   ]
  },
  {
   "cell_type": "code",
   "execution_count": 158,
   "metadata": {},
   "outputs": [
    {
     "data": {
      "text/html": [
       "<div>\n",
       "<style scoped>\n",
       "    .dataframe tbody tr th:only-of-type {\n",
       "        vertical-align: middle;\n",
       "    }\n",
       "\n",
       "    .dataframe tbody tr th {\n",
       "        vertical-align: top;\n",
       "    }\n",
       "\n",
       "    .dataframe thead th {\n",
       "        text-align: right;\n",
       "    }\n",
       "</style>\n",
       "<table border=\"1\" class=\"dataframe\">\n",
       "  <thead>\n",
       "    <tr style=\"text-align: right;\">\n",
       "      <th></th>\n",
       "      <th>num</th>\n",
       "      <th>name</th>\n",
       "      <th>city</th>\n",
       "      <th>country</th>\n",
       "      <th>coach</th>\n",
       "      <th>count_f</th>\n",
       "      <th>url</th>\n",
       "      <th>sentiment</th>\n",
       "    </tr>\n",
       "  </thead>\n",
       "  <tbody>\n",
       "    <tr>\n",
       "      <th>8812</th>\n",
       "      <td>8853</td>\n",
       "      <td>Трелиссак</td>\n",
       "      <td>NaN</td>\n",
       "      <td>Франция</td>\n",
       "      <td>NaN</td>\n",
       "      <td>0</td>\n",
       "      <td>https://www.sports.ru/football/club/trelissac/</td>\n",
       "      <td>Zero</td>\n",
       "    </tr>\n",
       "    <tr>\n",
       "      <th>7542</th>\n",
       "      <td>7574</td>\n",
       "      <td>Уиттон</td>\n",
       "      <td>NaN</td>\n",
       "      <td>Англия</td>\n",
       "      <td>NaN</td>\n",
       "      <td>0</td>\n",
       "      <td>https://www.sports.ru/football/club/whitton/</td>\n",
       "      <td>Zero</td>\n",
       "    </tr>\n",
       "    <tr>\n",
       "      <th>9188</th>\n",
       "      <td>9279</td>\n",
       "      <td>Мерелиненсе</td>\n",
       "      <td>NaN</td>\n",
       "      <td>Португалия</td>\n",
       "      <td>NaN</td>\n",
       "      <td>0</td>\n",
       "      <td>https://www.sports.ru/football/club/merelinense/</td>\n",
       "      <td>Zero</td>\n",
       "    </tr>\n",
       "    <tr>\n",
       "      <th>2087</th>\n",
       "      <td>2022</td>\n",
       "      <td>Копенгаген U-19</td>\n",
       "      <td>Копенгаген</td>\n",
       "      <td>Дания</td>\n",
       "      <td>NaN</td>\n",
       "      <td>6</td>\n",
       "      <td>https://www.sports.ru/football/club/copenhagen...</td>\n",
       "      <td>Low</td>\n",
       "    </tr>\n",
       "    <tr>\n",
       "      <th>8858</th>\n",
       "      <td>8916</td>\n",
       "      <td>Сент-Никлас</td>\n",
       "      <td>NaN</td>\n",
       "      <td>Бельгия</td>\n",
       "      <td>NaN</td>\n",
       "      <td>0</td>\n",
       "      <td>https://www.sports.ru/football/club/sportkring...</td>\n",
       "      <td>Zero</td>\n",
       "    </tr>\n",
       "  </tbody>\n",
       "</table>\n",
       "</div>"
      ],
      "text/plain": [
       "       num             name        city     country coach  count_f  \\\n",
       "8812  8853        Трелиссак         NaN     Франция   NaN        0   \n",
       "7542  7574           Уиттон         NaN      Англия   NaN        0   \n",
       "9188  9279      Мерелиненсе         NaN  Португалия   NaN        0   \n",
       "2087  2022  Копенгаген U-19  Копенгаген       Дания   NaN        6   \n",
       "8858  8916      Сент-Никлас         NaN     Бельгия   NaN        0   \n",
       "\n",
       "                                                    url sentiment  \n",
       "8812     https://www.sports.ru/football/club/trelissac/      Zero  \n",
       "7542       https://www.sports.ru/football/club/whitton/      Zero  \n",
       "9188   https://www.sports.ru/football/club/merelinense/      Zero  \n",
       "2087  https://www.sports.ru/football/club/copenhagen...       Low  \n",
       "8858  https://www.sports.ru/football/club/sportkring...      Zero  "
      ]
     },
     "execution_count": 158,
     "metadata": {},
     "output_type": "execute_result"
    }
   ],
   "source": [
    "data_auto.head()"
   ]
  },
  {
   "cell_type": "code",
   "execution_count": 159,
   "metadata": {},
   "outputs": [
    {
     "data": {
      "text/plain": [
       "<Axes: >"
      ]
     },
     "execution_count": 159,
     "metadata": {},
     "output_type": "execute_result"
    },
    {
     "data": {
      "image/png": "[encoded data removed]",
      "text/plain": [
       "<Figure size 640x480 with 1 Axes>"
      ]
     },
     "metadata": {},
     "output_type": "display_data"
    }
   ],
   "source": [
    "data_auto[\"sentiment\"].hist()"
   ]
  },
  {
   "cell_type": "markdown",
   "metadata": {},
   "source": [
    "Задача 3.\n",
    "Выполните разметку вручную отдельного подмножества выбранного датасета с помощью выбранного вами инструмента разметки."
   ]
  },
  {
   "cell_type": "markdown",
   "metadata": {},
   "source": [
    "pip install label-studio\n",
    "\n",
    "label-studio\n",
    "\n",
    "localhost:8081/projects\n",
    "\n",
    "![img1]('ls-1.png')\n",
    "![img2]('ls-2.png')\n",
    "![img3]('ls-3.png')\n"
   ]
  },
  {
   "cell_type": "markdown",
   "metadata": {},
   "source": [
    "Задача 4.\n",
    "Объедините данные, размеченные вручную, с данными, размеченными на основе правил. Объедините два подмножества размеченных данных в один набор данных, сохранив при этом соответствующую структуру и целостность."
   ]
  },
  {
   "cell_type": "code",
   "execution_count": 160,
   "metadata": {},
   "outputs": [],
   "source": [
    "data_modified = pd.read_csv(\"project.csv\")"
   ]
  },
  {
   "cell_type": "code",
   "execution_count": 161,
   "metadata": {},
   "outputs": [
    {
     "data": {
      "text/html": [
       "<div>\n",
       "<style scoped>\n",
       "    .dataframe tbody tr th:only-of-type {\n",
       "        vertical-align: middle;\n",
       "    }\n",
       "\n",
       "    .dataframe tbody tr th {\n",
       "        vertical-align: top;\n",
       "    }\n",
       "\n",
       "    .dataframe thead th {\n",
       "        text-align: right;\n",
       "    }\n",
       "</style>\n",
       "<table border=\"1\" class=\"dataframe\">\n",
       "  <thead>\n",
       "    <tr style=\"text-align: right;\">\n",
       "      <th></th>\n",
       "      <th>annotation_id</th>\n",
       "      <th>annotator</th>\n",
       "      <th>city</th>\n",
       "      <th>coach</th>\n",
       "      <th>count_f</th>\n",
       "      <th>country</th>\n",
       "      <th>created_at</th>\n",
       "      <th>id</th>\n",
       "      <th>lead_time</th>\n",
       "      <th>name</th>\n",
       "      <th>num</th>\n",
       "      <th>sentiment</th>\n",
       "      <th>updated_at</th>\n",
       "      <th>url</th>\n",
       "    </tr>\n",
       "  </thead>\n",
       "  <tbody>\n",
       "    <tr>\n",
       "      <th>0</th>\n",
       "      <td>1</td>\n",
       "      <td>1</td>\n",
       "      <td>NaN</td>\n",
       "      <td>NaN</td>\n",
       "      <td>1</td>\n",
       "      <td>Италия</td>\n",
       "      <td>2024-11-04T10:38:14.635006Z</td>\n",
       "      <td>1</td>\n",
       "      <td>3.111</td>\n",
       "      <td>Фермана</td>\n",
       "      <td>3698</td>\n",
       "      <td>Low</td>\n",
       "      <td>2024-11-04T10:38:14.635006Z</td>\n",
       "      <td>https://www.sports.ru/football/club/fermana/</td>\n",
       "    </tr>\n",
       "    <tr>\n",
       "      <th>1</th>\n",
       "      <td>2</td>\n",
       "      <td>1</td>\n",
       "      <td>NaN</td>\n",
       "      <td>NaN</td>\n",
       "      <td>26</td>\n",
       "      <td>Швейцария</td>\n",
       "      <td>2024-11-04T10:38:25.046265Z</td>\n",
       "      <td>2</td>\n",
       "      <td>4.997</td>\n",
       "      <td>Лозанна</td>\n",
       "      <td>1037</td>\n",
       "      <td>Medium</td>\n",
       "      <td>2024-11-04T10:38:25.046265Z</td>\n",
       "      <td>https://www.sports.ru/football/club/lausanne-s...</td>\n",
       "    </tr>\n",
       "    <tr>\n",
       "      <th>2</th>\n",
       "      <td>3</td>\n",
       "      <td>1</td>\n",
       "      <td>NaN</td>\n",
       "      <td>NaN</td>\n",
       "      <td>0</td>\n",
       "      <td>Бельгия</td>\n",
       "      <td>2024-11-04T10:38:28.362872Z</td>\n",
       "      <td>3</td>\n",
       "      <td>2.354</td>\n",
       "      <td>Пютте</td>\n",
       "      <td>7167</td>\n",
       "      <td>Zero</td>\n",
       "      <td>2024-11-04T10:38:28.362872Z</td>\n",
       "      <td>https://www.sports.ru/football/club/kfc-putte/</td>\n",
       "    </tr>\n",
       "    <tr>\n",
       "      <th>3</th>\n",
       "      <td>4</td>\n",
       "      <td>1</td>\n",
       "      <td>NaN</td>\n",
       "      <td>NaN</td>\n",
       "      <td>0</td>\n",
       "      <td>Германия</td>\n",
       "      <td>2024-11-04T10:38:35.737103Z</td>\n",
       "      <td>4</td>\n",
       "      <td>2.857</td>\n",
       "      <td>Хаштедт</td>\n",
       "      <td>5789</td>\n",
       "      <td>Zero</td>\n",
       "      <td>2024-11-04T10:38:35.737103Z</td>\n",
       "      <td>https://www.sports.ru/football/club/hastedt/</td>\n",
       "    </tr>\n",
       "    <tr>\n",
       "      <th>4</th>\n",
       "      <td>5</td>\n",
       "      <td>1</td>\n",
       "      <td>NaN</td>\n",
       "      <td>NaN</td>\n",
       "      <td>1</td>\n",
       "      <td>Бразилия</td>\n",
       "      <td>2024-11-04T10:38:39.026389Z</td>\n",
       "      <td>5</td>\n",
       "      <td>2.147</td>\n",
       "      <td>Демократа</td>\n",
       "      <td>3745</td>\n",
       "      <td>Low</td>\n",
       "      <td>2024-11-04T10:38:39.026389Z</td>\n",
       "      <td>https://www.sports.ru/football/club/democrata/</td>\n",
       "    </tr>\n",
       "  </tbody>\n",
       "</table>\n",
       "</div>"
      ],
      "text/plain": [
       "   annotation_id  annotator city coach  count_f    country  \\\n",
       "0              1          1  NaN   NaN        1     Италия   \n",
       "1              2          1  NaN   NaN       26  Швейцария   \n",
       "2              3          1  NaN   NaN        0    Бельгия   \n",
       "3              4          1  NaN   NaN        0   Германия   \n",
       "4              5          1  NaN   NaN        1   Бразилия   \n",
       "\n",
       "                    created_at  id  lead_time       name   num sentiment  \\\n",
       "0  2024-11-04T10:38:14.635006Z   1      3.111    Фермана  3698       Low   \n",
       "1  2024-11-04T10:38:25.046265Z   2      4.997    Лозанна  1037    Medium   \n",
       "2  2024-11-04T10:38:28.362872Z   3      2.354      Пютте  7167      Zero   \n",
       "3  2024-11-04T10:38:35.737103Z   4      2.857    Хаштедт  5789      Zero   \n",
       "4  2024-11-04T10:38:39.026389Z   5      2.147  Демократа  3745       Low   \n",
       "\n",
       "                    updated_at  \\\n",
       "0  2024-11-04T10:38:14.635006Z   \n",
       "1  2024-11-04T10:38:25.046265Z   \n",
       "2  2024-11-04T10:38:28.362872Z   \n",
       "3  2024-11-04T10:38:35.737103Z   \n",
       "4  2024-11-04T10:38:39.026389Z   \n",
       "\n",
       "                                                 url  \n",
       "0       https://www.sports.ru/football/club/fermana/  \n",
       "1  https://www.sports.ru/football/club/lausanne-s...  \n",
       "2     https://www.sports.ru/football/club/kfc-putte/  \n",
       "3       https://www.sports.ru/football/club/hastedt/  \n",
       "4     https://www.sports.ru/football/club/democrata/  "
      ]
     },
     "execution_count": 161,
     "metadata": {},
     "output_type": "execute_result"
    }
   ],
   "source": [
    "data_modified.head()"
   ]
  },
  {
   "cell_type": "code",
   "execution_count": 163,
   "metadata": {},
   "outputs": [],
   "source": [
    "data_modified = data_modified[[\"num\", \"city\", \"country\", \"coach\", \"count_f\", \"url\", \"sentiment\"]]"
   ]
  },
  {
   "cell_type": "code",
   "execution_count": 164,
   "metadata": {},
   "outputs": [
    {
     "data": {
      "text/html": [
       "<div>\n",
       "<style scoped>\n",
       "    .dataframe tbody tr th:only-of-type {\n",
       "        vertical-align: middle;\n",
       "    }\n",
       "\n",
       "    .dataframe tbody tr th {\n",
       "        vertical-align: top;\n",
       "    }\n",
       "\n",
       "    .dataframe thead th {\n",
       "        text-align: right;\n",
       "    }\n",
       "</style>\n",
       "<table border=\"1\" class=\"dataframe\">\n",
       "  <thead>\n",
       "    <tr style=\"text-align: right;\">\n",
       "      <th></th>\n",
       "      <th>num</th>\n",
       "      <th>city</th>\n",
       "      <th>country</th>\n",
       "      <th>coach</th>\n",
       "      <th>count_f</th>\n",
       "      <th>url</th>\n",
       "      <th>sentiment</th>\n",
       "    </tr>\n",
       "  </thead>\n",
       "  <tbody>\n",
       "    <tr>\n",
       "      <th>0</th>\n",
       "      <td>3698</td>\n",
       "      <td>NaN</td>\n",
       "      <td>Италия</td>\n",
       "      <td>NaN</td>\n",
       "      <td>1</td>\n",
       "      <td>https://www.sports.ru/football/club/fermana/</td>\n",
       "      <td>Low</td>\n",
       "    </tr>\n",
       "    <tr>\n",
       "      <th>1</th>\n",
       "      <td>1037</td>\n",
       "      <td>NaN</td>\n",
       "      <td>Швейцария</td>\n",
       "      <td>NaN</td>\n",
       "      <td>26</td>\n",
       "      <td>https://www.sports.ru/football/club/lausanne-s...</td>\n",
       "      <td>Medium</td>\n",
       "    </tr>\n",
       "    <tr>\n",
       "      <th>2</th>\n",
       "      <td>7167</td>\n",
       "      <td>NaN</td>\n",
       "      <td>Бельгия</td>\n",
       "      <td>NaN</td>\n",
       "      <td>0</td>\n",
       "      <td>https://www.sports.ru/football/club/kfc-putte/</td>\n",
       "      <td>Zero</td>\n",
       "    </tr>\n",
       "    <tr>\n",
       "      <th>3</th>\n",
       "      <td>5789</td>\n",
       "      <td>NaN</td>\n",
       "      <td>Германия</td>\n",
       "      <td>NaN</td>\n",
       "      <td>0</td>\n",
       "      <td>https://www.sports.ru/football/club/hastedt/</td>\n",
       "      <td>Zero</td>\n",
       "    </tr>\n",
       "    <tr>\n",
       "      <th>4</th>\n",
       "      <td>3745</td>\n",
       "      <td>NaN</td>\n",
       "      <td>Бразилия</td>\n",
       "      <td>NaN</td>\n",
       "      <td>1</td>\n",
       "      <td>https://www.sports.ru/football/club/democrata/</td>\n",
       "      <td>Low</td>\n",
       "    </tr>\n",
       "  </tbody>\n",
       "</table>\n",
       "</div>"
      ],
      "text/plain": [
       "    num city    country coach  count_f  \\\n",
       "0  3698  NaN     Италия   NaN        1   \n",
       "1  1037  NaN  Швейцария   NaN       26   \n",
       "2  7167  NaN    Бельгия   NaN        0   \n",
       "3  5789  NaN   Германия   NaN        0   \n",
       "4  3745  NaN   Бразилия   NaN        1   \n",
       "\n",
       "                                                 url sentiment  \n",
       "0       https://www.sports.ru/football/club/fermana/       Low  \n",
       "1  https://www.sports.ru/football/club/lausanne-s...    Medium  \n",
       "2     https://www.sports.ru/football/club/kfc-putte/      Zero  \n",
       "3       https://www.sports.ru/football/club/hastedt/      Zero  \n",
       "4     https://www.sports.ru/football/club/democrata/       Low  "
      ]
     },
     "execution_count": 164,
     "metadata": {},
     "output_type": "execute_result"
    }
   ],
   "source": [
    "data_modified.head()"
   ]
  },
  {
   "cell_type": "code",
   "execution_count": 165,
   "metadata": {},
   "outputs": [],
   "source": [
    "data_result = pd.concat([data_auto, data_modified])"
   ]
  },
  {
   "cell_type": "code",
   "execution_count": 166,
   "metadata": {},
   "outputs": [
    {
     "name": "stdout",
     "output_type": "stream",
     "text": [
      "<class 'pandas.core.frame.DataFrame'>\n",
      "Index: 9702 entries, 8812 to 96\n",
      "Data columns (total 8 columns):\n",
      " #   Column     Non-Null Count  Dtype \n",
      "---  ------     --------------  ----- \n",
      " 0   num        9702 non-null   int64 \n",
      " 1   name       9605 non-null   object\n",
      " 2   city       2985 non-null   object\n",
      " 3   country    9699 non-null   object\n",
      " 4   coach      297 non-null    object\n",
      " 5   count_f    9702 non-null   int64 \n",
      " 6   url        9702 non-null   object\n",
      " 7   sentiment  9702 non-null   object\n",
      "dtypes: int64(2), object(6)\n",
      "memory usage: 682.2+ KB\n"
     ]
    }
   ],
   "source": [
    "data_result.info()"
   ]
  },
  {
   "cell_type": "code",
   "execution_count": 168,
   "metadata": {},
   "outputs": [
    {
     "data": {
      "text/html": [
       "<div>\n",
       "<style scoped>\n",
       "    .dataframe tbody tr th:only-of-type {\n",
       "        vertical-align: middle;\n",
       "    }\n",
       "\n",
       "    .dataframe tbody tr th {\n",
       "        vertical-align: top;\n",
       "    }\n",
       "\n",
       "    .dataframe thead th {\n",
       "        text-align: right;\n",
       "    }\n",
       "</style>\n",
       "<table border=\"1\" class=\"dataframe\">\n",
       "  <thead>\n",
       "    <tr style=\"text-align: right;\">\n",
       "      <th></th>\n",
       "      <th>num</th>\n",
       "      <th>name</th>\n",
       "      <th>city</th>\n",
       "      <th>country</th>\n",
       "      <th>coach</th>\n",
       "      <th>count_f</th>\n",
       "      <th>url</th>\n",
       "      <th>sentiment</th>\n",
       "    </tr>\n",
       "  </thead>\n",
       "  <tbody>\n",
       "    <tr>\n",
       "      <th>8812</th>\n",
       "      <td>8853</td>\n",
       "      <td>Трелиссак</td>\n",
       "      <td>NaN</td>\n",
       "      <td>Франция</td>\n",
       "      <td>NaN</td>\n",
       "      <td>0</td>\n",
       "      <td>https://www.sports.ru/football/club/trelissac/</td>\n",
       "      <td>Zero</td>\n",
       "    </tr>\n",
       "    <tr>\n",
       "      <th>7542</th>\n",
       "      <td>7574</td>\n",
       "      <td>Уиттон</td>\n",
       "      <td>NaN</td>\n",
       "      <td>Англия</td>\n",
       "      <td>NaN</td>\n",
       "      <td>0</td>\n",
       "      <td>https://www.sports.ru/football/club/whitton/</td>\n",
       "      <td>Zero</td>\n",
       "    </tr>\n",
       "    <tr>\n",
       "      <th>9188</th>\n",
       "      <td>9279</td>\n",
       "      <td>Мерелиненсе</td>\n",
       "      <td>NaN</td>\n",
       "      <td>Португалия</td>\n",
       "      <td>NaN</td>\n",
       "      <td>0</td>\n",
       "      <td>https://www.sports.ru/football/club/merelinense/</td>\n",
       "      <td>Zero</td>\n",
       "    </tr>\n",
       "    <tr>\n",
       "      <th>2087</th>\n",
       "      <td>2022</td>\n",
       "      <td>Копенгаген U-19</td>\n",
       "      <td>Копенгаген</td>\n",
       "      <td>Дания</td>\n",
       "      <td>NaN</td>\n",
       "      <td>6</td>\n",
       "      <td>https://www.sports.ru/football/club/copenhagen...</td>\n",
       "      <td>Low</td>\n",
       "    </tr>\n",
       "    <tr>\n",
       "      <th>8858</th>\n",
       "      <td>8916</td>\n",
       "      <td>Сент-Никлас</td>\n",
       "      <td>NaN</td>\n",
       "      <td>Бельгия</td>\n",
       "      <td>NaN</td>\n",
       "      <td>0</td>\n",
       "      <td>https://www.sports.ru/football/club/sportkring...</td>\n",
       "      <td>Zero</td>\n",
       "    </tr>\n",
       "  </tbody>\n",
       "</table>\n",
       "</div>"
      ],
      "text/plain": [
       "       num             name        city     country coach  count_f  \\\n",
       "8812  8853        Трелиссак         NaN     Франция   NaN        0   \n",
       "7542  7574           Уиттон         NaN      Англия   NaN        0   \n",
       "9188  9279      Мерелиненсе         NaN  Португалия   NaN        0   \n",
       "2087  2022  Копенгаген U-19  Копенгаген       Дания   NaN        6   \n",
       "8858  8916      Сент-Никлас         NaN     Бельгия   NaN        0   \n",
       "\n",
       "                                                    url sentiment  \n",
       "8812     https://www.sports.ru/football/club/trelissac/      Zero  \n",
       "7542       https://www.sports.ru/football/club/whitton/      Zero  \n",
       "9188   https://www.sports.ru/football/club/merelinense/      Zero  \n",
       "2087  https://www.sports.ru/football/club/copenhagen...       Low  \n",
       "8858  https://www.sports.ru/football/club/sportkring...      Zero  "
      ]
     },
     "execution_count": 168,
     "metadata": {},
     "output_type": "execute_result"
    }
   ],
   "source": [
    "data_result.head()"
   ]
  },
  {
   "cell_type": "markdown",
   "metadata": {},
   "source": [
    "Задача 5.\n",
    "Обучите модель машинного обучения, используя объединенный набор размеченных данных. Разделите датасет на обучающий и тестовый наборы и используйте обучающий набор для обучения модели."
   ]
  },
  {
   "cell_type": "code",
   "execution_count": 173,
   "metadata": {},
   "outputs": [
    {
     "name": "stderr",
     "output_type": "stream",
     "text": [
      "C:\\Users\\Nata44845\\AppData\\Local\\Temp\\ipykernel_1372\\1073834131.py:2: FutureWarning: Downcasting behavior in `replace` is deprecated and will be removed in a future version. To retain the old behavior, explicitly call `result.infer_objects(copy=False)`. To opt-in to the future behavior, set `pd.set_option('future.no_silent_downcasting', True)`\n",
      "  data_result[\"sentiment_num\"] = data_result['sentiment'].replace({'Zero': 0, 'Low': 1, 'Medium':2, 'High':3})\n"
     ]
    }
   ],
   "source": [
    "data_result = shuffle(data_result)\n",
    "data_result[\"sentiment_num\"] = data_result['sentiment'].replace({'Zero': 0, 'Low': 1, 'Medium':2, 'High':3})\n",
    "labeled_data, unlabeled_data = train_test_split(data_result, train_size=0.2, random_state=42)"
   ]
  },
  {
   "cell_type": "code",
   "execution_count": 174,
   "metadata": {},
   "outputs": [
    {
     "data": {
      "text/html": [
       "<div>\n",
       "<style scoped>\n",
       "    .dataframe tbody tr th:only-of-type {\n",
       "        vertical-align: middle;\n",
       "    }\n",
       "\n",
       "    .dataframe tbody tr th {\n",
       "        vertical-align: top;\n",
       "    }\n",
       "\n",
       "    .dataframe thead th {\n",
       "        text-align: right;\n",
       "    }\n",
       "</style>\n",
       "<table border=\"1\" class=\"dataframe\">\n",
       "  <thead>\n",
       "    <tr style=\"text-align: right;\">\n",
       "      <th></th>\n",
       "      <th>num</th>\n",
       "      <th>name</th>\n",
       "      <th>city</th>\n",
       "      <th>country</th>\n",
       "      <th>coach</th>\n",
       "      <th>count_f</th>\n",
       "      <th>url</th>\n",
       "      <th>sentiment</th>\n",
       "      <th>sentiment_num</th>\n",
       "    </tr>\n",
       "  </thead>\n",
       "  <tbody>\n",
       "    <tr>\n",
       "      <th>4040</th>\n",
       "      <td>3665</td>\n",
       "      <td>Виктория Николаевка</td>\n",
       "      <td>NaN</td>\n",
       "      <td>Украина</td>\n",
       "      <td>NaN</td>\n",
       "      <td>1</td>\n",
       "      <td>https://www.sports.ru/football/club/viktoriya-...</td>\n",
       "      <td>Low</td>\n",
       "      <td>1</td>\n",
       "    </tr>\n",
       "    <tr>\n",
       "      <th>579</th>\n",
       "      <td>402</td>\n",
       "      <td>Анжи-Юниор</td>\n",
       "      <td>Зеленодольск</td>\n",
       "      <td>Россия</td>\n",
       "      <td>NaN</td>\n",
       "      <td>151</td>\n",
       "      <td>https://www.sports.ru/football/club/anzhi-junior/</td>\n",
       "      <td>Medium</td>\n",
       "      <td>2</td>\n",
       "    </tr>\n",
       "    <tr>\n",
       "      <th>4462</th>\n",
       "      <td>4459</td>\n",
       "      <td>Алжуштреленсе</td>\n",
       "      <td>Алжуштрел</td>\n",
       "      <td>Португалия</td>\n",
       "      <td>NaN</td>\n",
       "      <td>1</td>\n",
       "      <td>https://www.sports.ru/football/club/sporte-min...</td>\n",
       "      <td>Low</td>\n",
       "      <td>1</td>\n",
       "    </tr>\n",
       "    <tr>\n",
       "      <th>9418</th>\n",
       "      <td>9493</td>\n",
       "      <td>Агротикос Астерас</td>\n",
       "      <td>Салоники</td>\n",
       "      <td>Греция</td>\n",
       "      <td>NaN</td>\n",
       "      <td>0</td>\n",
       "      <td>https://www.sports.ru/football/club/pmas-agrot...</td>\n",
       "      <td>Zero</td>\n",
       "      <td>0</td>\n",
       "    </tr>\n",
       "    <tr>\n",
       "      <th>3765</th>\n",
       "      <td>3829</td>\n",
       "      <td>Сукхотхай</td>\n",
       "      <td>NaN</td>\n",
       "      <td>Таиланд</td>\n",
       "      <td>NaN</td>\n",
       "      <td>1</td>\n",
       "      <td>https://www.sports.ru/football/club/sukhothai/</td>\n",
       "      <td>Low</td>\n",
       "      <td>1</td>\n",
       "    </tr>\n",
       "  </tbody>\n",
       "</table>\n",
       "</div>"
      ],
      "text/plain": [
       "       num                 name          city     country coach  count_f  \\\n",
       "4040  3665  Виктория Николаевка           NaN     Украина   NaN        1   \n",
       "579    402           Анжи-Юниор  Зеленодольск      Россия   NaN      151   \n",
       "4462  4459        Алжуштреленсе     Алжуштрел  Португалия   NaN        1   \n",
       "9418  9493    Агротикос Астерас      Салоники      Греция   NaN        0   \n",
       "3765  3829            Сукхотхай           NaN     Таиланд   NaN        1   \n",
       "\n",
       "                                                    url sentiment  \\\n",
       "4040  https://www.sports.ru/football/club/viktoriya-...       Low   \n",
       "579   https://www.sports.ru/football/club/anzhi-junior/    Medium   \n",
       "4462  https://www.sports.ru/football/club/sporte-min...       Low   \n",
       "9418  https://www.sports.ru/football/club/pmas-agrot...      Zero   \n",
       "3765     https://www.sports.ru/football/club/sukhothai/       Low   \n",
       "\n",
       "      sentiment_num  \n",
       "4040              1  \n",
       "579               2  \n",
       "4462              1  \n",
       "9418              0  \n",
       "3765              1  "
      ]
     },
     "execution_count": 174,
     "metadata": {},
     "output_type": "execute_result"
    }
   ],
   "source": [
    "labeled_data.head()"
   ]
  },
  {
   "cell_type": "code",
   "execution_count": 184,
   "metadata": {},
   "outputs": [
    {
     "name": "stderr",
     "output_type": "stream",
     "text": [
      "c:\\Nata\\GeekBrains\\gb-git\\data_extract_parsing\\venv_data_parsing\\Lib\\site-packages\\sklearn\\linear_model\\_logistic.py:469: ConvergenceWarning: lbfgs failed to converge (status=1):\n",
      "STOP: TOTAL NO. of ITERATIONS REACHED LIMIT.\n",
      "\n",
      "Increase the number of iterations (max_iter) or scale the data as shown in:\n",
      "    https://scikit-learn.org/stable/modules/preprocessing.html\n",
      "Please also refer to the documentation for alternative solver options:\n",
      "    https://scikit-learn.org/stable/modules/linear_model.html#logistic-regression\n",
      "  n_iter_i = _check_optimize_result(\n"
     ]
    },
    {
     "ename": "NotFittedError",
     "evalue": "The TF-IDF vectorizer is not fitted",
     "output_type": "error",
     "traceback": [
      "\u001b[1;31m---------------------------------------------------------------------------\u001b[0m",
      "\u001b[1;31mNotFittedError\u001b[0m                            Traceback (most recent call last)",
      "Cell \u001b[1;32mIn[184], line 18\u001b[0m\n\u001b[0;32m     15\u001b[0m model, vectorizer \u001b[38;5;241m=\u001b[39m train_model(labeled_data)\n\u001b[0;32m     17\u001b[0m \u001b[38;5;66;03m# Использование исходной модели для прогнозирования настроения неразмеченных данных\u001b[39;00m\n\u001b[1;32m---> 18\u001b[0m X_unlabeled \u001b[38;5;241m=\u001b[39m \u001b[43mvectorizer\u001b[49m\u001b[38;5;241;43m.\u001b[39;49m\u001b[43mtransform\u001b[49m\u001b[43m(\u001b[49m\u001b[43munlabeled_data\u001b[49m\u001b[43m[\u001b[49m\u001b[38;5;124;43m'\u001b[39;49m\u001b[38;5;124;43mcount_f\u001b[39;49m\u001b[38;5;124;43m'\u001b[39;49m\u001b[43m]\u001b[49m\u001b[43m)\u001b[49m\n\u001b[0;32m     19\u001b[0m y_unlabeled_predicted \u001b[38;5;241m=\u001b[39m model\u001b[38;5;241m.\u001b[39mpredict(X_unlabeled)\n",
      "File \u001b[1;32mc:\\Nata\\GeekBrains\\gb-git\\data_extract_parsing\\venv_data_parsing\\Lib\\site-packages\\sklearn\\feature_extraction\\text.py:2113\u001b[0m, in \u001b[0;36mTfidfVectorizer.transform\u001b[1;34m(self, raw_documents)\u001b[0m\n\u001b[0;32m   2097\u001b[0m \u001b[38;5;28;01mdef\u001b[39;00m \u001b[38;5;21mtransform\u001b[39m(\u001b[38;5;28mself\u001b[39m, raw_documents):\n\u001b[0;32m   2098\u001b[0m \u001b[38;5;250m    \u001b[39m\u001b[38;5;124;03m\"\"\"Transform documents to document-term matrix.\u001b[39;00m\n\u001b[0;32m   2099\u001b[0m \n\u001b[0;32m   2100\u001b[0m \u001b[38;5;124;03m    Uses the vocabulary and document frequencies (df) learned by fit (or\u001b[39;00m\n\u001b[1;32m   (...)\u001b[0m\n\u001b[0;32m   2111\u001b[0m \u001b[38;5;124;03m        Tf-idf-weighted document-term matrix.\u001b[39;00m\n\u001b[0;32m   2112\u001b[0m \u001b[38;5;124;03m    \"\"\"\u001b[39;00m\n\u001b[1;32m-> 2113\u001b[0m     \u001b[43mcheck_is_fitted\u001b[49m\u001b[43m(\u001b[49m\u001b[38;5;28;43mself\u001b[39;49m\u001b[43m,\u001b[49m\u001b[43m \u001b[49m\u001b[43mmsg\u001b[49m\u001b[38;5;241;43m=\u001b[39;49m\u001b[38;5;124;43m\"\u001b[39;49m\u001b[38;5;124;43mThe TF-IDF vectorizer is not fitted\u001b[39;49m\u001b[38;5;124;43m\"\u001b[39;49m\u001b[43m)\u001b[49m\n\u001b[0;32m   2115\u001b[0m     X \u001b[38;5;241m=\u001b[39m \u001b[38;5;28msuper\u001b[39m()\u001b[38;5;241m.\u001b[39mtransform(raw_documents)\n\u001b[0;32m   2116\u001b[0m     \u001b[38;5;28;01mreturn\u001b[39;00m \u001b[38;5;28mself\u001b[39m\u001b[38;5;241m.\u001b[39m_tfidf\u001b[38;5;241m.\u001b[39mtransform(X, copy\u001b[38;5;241m=\u001b[39m\u001b[38;5;28;01mFalse\u001b[39;00m)\n",
      "File \u001b[1;32mc:\\Nata\\GeekBrains\\gb-git\\data_extract_parsing\\venv_data_parsing\\Lib\\site-packages\\sklearn\\utils\\validation.py:1661\u001b[0m, in \u001b[0;36mcheck_is_fitted\u001b[1;34m(estimator, attributes, msg, all_or_any)\u001b[0m\n\u001b[0;32m   1658\u001b[0m     \u001b[38;5;28;01mraise\u001b[39;00m \u001b[38;5;167;01mTypeError\u001b[39;00m(\u001b[38;5;124m\"\u001b[39m\u001b[38;5;132;01m%s\u001b[39;00m\u001b[38;5;124m is not an estimator instance.\u001b[39m\u001b[38;5;124m\"\u001b[39m \u001b[38;5;241m%\u001b[39m (estimator))\n\u001b[0;32m   1660\u001b[0m \u001b[38;5;28;01mif\u001b[39;00m \u001b[38;5;129;01mnot\u001b[39;00m _is_fitted(estimator, attributes, all_or_any):\n\u001b[1;32m-> 1661\u001b[0m     \u001b[38;5;28;01mraise\u001b[39;00m NotFittedError(msg \u001b[38;5;241m%\u001b[39m {\u001b[38;5;124m\"\u001b[39m\u001b[38;5;124mname\u001b[39m\u001b[38;5;124m\"\u001b[39m: \u001b[38;5;28mtype\u001b[39m(estimator)\u001b[38;5;241m.\u001b[39m\u001b[38;5;18m__name__\u001b[39m})\n",
      "\u001b[1;31mNotFittedError\u001b[0m: The TF-IDF vectorizer is not fitted"
     ]
    }
   ],
   "source": [
    "# Определение функции для обучения модели логистической регрессии на размеченных данных\n",
    "def train_model(labeled_data):\n",
    "    # Векторизация текстовых данных с помощью TF-IDF\n",
    "    vectorizer = TfidfVectorizer()\n",
    "    X = labeled_data[['count_f']]\n",
    "    y = labeled_data['sentiment_num']\n",
    "\n",
    "    # Обучение модели логистической регрессии на размеченных данных\n",
    "    model = LogisticRegression()\n",
    "    model.fit(X, y)\n",
    "\n",
    "    return model, vectorizer\n",
    "\n",
    "# Обучение начальной модели на небольшом наборе \n",
    "model, vectorizer = train_model(labeled_data)\n",
    "\n",
    "# Использование исходной модели для прогнозирования настроения неразмеченных данных\n",
    "X_unlabeled = vectorizer.transform(unlabeled_data['count_f'])\n",
    "y_unlabeled_predicted = model.predict(X_unlabeled)\n"
   ]
  },
  {
   "cell_type": "markdown",
   "metadata": {},
   "source": [
    "Задача 6.\n",
    "Оценить эффективность обученной модели на тестовом датасете. Используйте подходящие метрики оценки. Интерпретируйте результаты и проанализируйте эффективность модели в решении задачи разметки."
   ]
  },
  {
   "cell_type": "code",
   "execution_count": null,
   "metadata": {},
   "outputs": [],
   "source": []
  }
 ],
 "metadata": {
  "kernelspec": {
   "display_name": "venv_data_parsing",
   "language": "python",
   "name": "python3"
  },
  "language_info": {
   "codemirror_mode": {
    "name": "ipython",
    "version": 3
   },
   "file_extension": ".py",
   "mimetype": "text/x-python",
   "name": "python",
   "nbconvert_exporter": "python",
   "pygments_lexer": "ipython3",
   "version": "3.11.9"
  }
 },
 "nbformat": 4,
 "nbformat_minor": 2
}
